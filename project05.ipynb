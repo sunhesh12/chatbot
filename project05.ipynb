{
 "cells": [
  {
   "cell_type": "code",
   "execution_count": null,
   "id": "009d6968",
   "metadata": {
    "scrolled": true
   },
   "outputs": [],
   "source": [
    "print(\"jack: Hi..I'm Heshan.What is your name?\" , flush = True)\n",
    "name=input(\"your name: \")\n",
    "print(\"jack: Hi {}..So what do you want to know our company?\".format(name))\n",
    "ques =input()\n",
    "\n",
    "def chat_check():\n",
    "    global ques,flag\n",
    "    \n",
    "    print(\"Heshan: Do ypu want to know anything more? (Yes/No)\")\n",
    "    check=input(\"Yes/No : \")\n",
    "    if check.lower()==\"yes\" :\n",
    "        print(\"Heshan: Okay. So what do you want to know?\")\n",
    "        ques=input()\n",
    "        \n",
    "    else:\n",
    "        import random\n",
    "        l=[\"Have a nice day\",\"Nice to chat with you\",\"Have a beautiful day\"]\n",
    "        greeting =random.choice(l)\n",
    "        print(\"Hehsan: Okay, \" +greeting)\n",
    "        flag=False\n",
    "        \n",
    "flag=True\n",
    "\n",
    "while flag:\n",
    "    if all(i in ques.lower() for i in [\"company\",\"name\"]):\n",
    "        print(\"Heshan: Our company is MARTLOGY(PVT)Ltd\")\n",
    "        chat_check()\n",
    "        \n",
    "    elif all(i in ques.lower() for i in [\"ceo\",\"name\"]):\n",
    "        print(\"Heshan: Our company CEO is Mr.Santhush Bandaranayake\")\n",
    "        chat_check()\n",
    "        \n",
    "    elif any(i in ques.lower() for i in [\"contact\",\"address\",\"telephone\",\"email\",\"mobile\",\"location\"]):\n",
    "        print(\"Heshan: Our company,\\naddress is 125,Srimath anagarika darmapala Mawatha,Colomo07\\nchotline 0112224448\\nemail is martlogy@gmail.com \")\n",
    "        chat_check()\n",
    "        \n",
    "    elif any(i in ques.lower() for i in [\"service\",\"product\",\"manufacture\"]):\n",
    "        print(\"Heshan: Our company is developing Artificial Intelligent based software\")\n",
    "        chat_check()\n",
    "        \n",
    "    else:\n",
    "        print(\"Heshan: {}, Your question is not clear\".format(name))\n",
    "        chat_check()\n",
    "        \n",
    "        "
   ]
  },
  {
   "cell_type": "code",
   "execution_count": null,
   "id": "f14296e5",
   "metadata": {
    "scrolled": true
   },
   "outputs": [],
   "source": []
  },
  {
   "cell_type": "code",
   "execution_count": null,
   "id": "0c43f17e",
   "metadata": {
    "scrolled": true
   },
   "outputs": [],
   "source": []
  }
 ],
 "metadata": {
  "kernelspec": {
   "display_name": "Python 3 (ipykernel)",
   "language": "python",
   "name": "python3"
  },
  "language_info": {
   "codemirror_mode": {
    "name": "ipython",
    "version": 3
   },
   "file_extension": ".py",
   "mimetype": "text/x-python",
   "name": "python",
   "nbconvert_exporter": "python",
   "pygments_lexer": "ipython3",
   "version": "3.9.12"
  }
 },
 "nbformat": 4,
 "nbformat_minor": 5
}
